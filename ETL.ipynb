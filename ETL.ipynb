{
 "cells": [
  {
   "cell_type": "code",
   "execution_count": 117,
   "metadata": {},
   "outputs": [],
   "source": [
    "import requests\n",
    "from bs4 import BeautifulSoup\n",
    "import pandas as pd\n",
    "from pyspark.sql import SparkSession\n",
    "from bookutils import *\n",
    "\n",
    "spark = SparkSession \\\n",
    "    .builder \\\n",
    "    .appName(\"Python Spark SQL basic example\") \\\n",
    "    .config(\"spark.some.config.option\", \"some-value\") \\\n",
    "    .getOrCreate()"
   ]
  },
  {
   "cell_type": "code",
   "execution_count": 33,
   "metadata": {},
   "outputs": [
    {
     "data": {
      "text/html": [
       "<div>\n",
       "<style scoped>\n",
       "    .dataframe tbody tr th:only-of-type {\n",
       "        vertical-align: middle;\n",
       "    }\n",
       "\n",
       "    .dataframe tbody tr th {\n",
       "        vertical-align: top;\n",
       "    }\n",
       "\n",
       "    .dataframe thead th {\n",
       "        text-align: right;\n",
       "    }\n",
       "</style>\n",
       "<table border=\"1\" class=\"dataframe\">\n",
       "  <thead>\n",
       "    <tr style=\"text-align: right;\">\n",
       "      <th></th>\n",
       "      <th>도서명</th>\n",
       "      <th>저자</th>\n",
       "      <th>출판사</th>\n",
       "      <th>ISBN</th>\n",
       "      <th>주제분류번호</th>\n",
       "      <th>등록일자</th>\n",
       "    </tr>\n",
       "  </thead>\n",
       "  <tbody>\n",
       "    <tr>\n",
       "      <th>0</th>\n",
       "      <td>(그림과 실습으로 배우는) 도커 &amp; 쿠버네티스:개념과 작동 원리가 쏙쏙 이해되는 완...</td>\n",
       "      <td>오가사와라 시게타카 지음 ;심효섭 옮김</td>\n",
       "      <td>위키북스</td>\n",
       "      <td>9791158393038</td>\n",
       "      <td>005.1</td>\n",
       "      <td>2022-06-22</td>\n",
       "    </tr>\n",
       "  </tbody>\n",
       "</table>\n",
       "</div>"
      ],
      "text/plain": [
       "                                                 도서명                     저자  \\\n",
       "0  (그림과 실습으로 배우는) 도커 & 쿠버네티스:개념과 작동 원리가 쏙쏙 이해되는 완...  오가사와라 시게타카 지음 ;심효섭 옮김   \n",
       "\n",
       "    출판사           ISBN 주제분류번호        등록일자  \n",
       "0  위키북스  9791158393038  005.1  2022-06-22  "
      ]
     },
     "execution_count": 33,
     "metadata": {},
     "output_type": "execute_result"
    }
   ],
   "source": [
    "k = pd.read_csv('./data/bookListSearch.csv',encoding='cp949',index_col=0)\n",
    "\n",
    "k.head(1)"
   ]
  },
  {
   "cell_type": "code",
   "execution_count": 111,
   "metadata": {},
   "outputs": [],
   "source": [
    "def loadLibBook(libCode : int, startDate: str) -> pd.DataFrame :\n",
    "    ''' \n",
    "    ex) startData : \"2022-07-11\"\n",
    "    '''\n",
    "    from datetime import timedelta, datetime\n",
    "    day = datetime.strptime(startDate,'%Y-%m-%d').date()\n",
    "\n",
    "    #해당 달의 첫째날 구하기\n",
    "    first_day = day.replace(day=1)\n",
    "\n",
    "    \n",
    "\n",
    "    #전달의 마지막 날 구하기\n",
    "    dayLast = first_day - timedelta(days=1)\n",
    "    print(dayLast)\n",
    "\n",
    "    #전달의 첫째 날 구하기\n",
    "    dayStart = dayLast.replace(day=1)\n",
    "    print(dayStart)\n",
    "\n",
    "    libUrl=f'http://data4library.kr/api/itemSrch?libCode={libCode}&startDt={dayStart}&endDt={dayLast}&authKey=7123eacb2744a02faca2508a82304c3bf154bf0b285da35c2faa2b8498b09872&pageSize=10000'\n",
    "    libHtml = requests.get(libUrl)\n",
    "    libSoup = BeautifulSoup(libHtml.content, features=\"xml\")\n",
    "\n",
    "\n",
    "    libBookname = list(map(lambda x : x.string,libSoup.find_all('bookname')))\n",
    "    libAuthor =  list(map(lambda x : x.string,libSoup.find_all('authors'))) \n",
    "    libPublisher = list(map(lambda x : x.string,libSoup.find_all('publisher')))  \n",
    "    libISBN = list(map(lambda x : x.string,libSoup.find_all('isbn13')))  \n",
    "    libClassNum = list(map(lambda x : x.string,libSoup.find_all('class_no')))  \n",
    "    libRegDate = list(map(lambda x : x.string,libSoup.find_all('reg_date')))  \n",
    "    libBookImageURL = list(map(lambda x : x.string,libSoup.find_all('bookImageURL')))  \n",
    "\n",
    "    data = pd.DataFrame([libBookname,libAuthor,libPublisher,libISBN,libClassNum,libRegDate,libBookImageURL]).T\n",
    "    data.columns = ['도서명', '저자', '출판사', 'ISBN', '주제분류번호', '등록일자','이미지주소']\n",
    "    sortedData : pd.DataFrame = data[~data['주제분류번호'].isna()]\n",
    "    return sortedData"
   ]
  },
  {
   "cell_type": "code",
   "execution_count": 112,
   "metadata": {},
   "outputs": [
    {
     "name": "stdout",
     "output_type": "stream",
     "text": [
      "2022-06-30\n",
      "2022-06-01\n"
     ]
    }
   ],
   "source": [
    "k = loadLibBook(lib1,'2022-07-15')"
   ]
  },
  {
   "cell_type": "code",
   "execution_count": 143,
   "metadata": {},
   "outputs": [],
   "source": [
    "bookInfoSearch['keyword'] = result['keyword'].tolist()"
   ]
  },
  {
   "cell_type": "code",
   "execution_count": null,
   "metadata": {},
   "outputs": [],
   "source": [
    "libInfo = pd.read_csv('./data/lib_info.csv',encoding='CP949')\n",
    "\n",
    "libInfo[libInfo['libName'].str.contains('서울특')]['libCode'].tolist()"
   ]
  },
  {
   "cell_type": "code",
   "execution_count": null,
   "metadata": {},
   "outputs": [],
   "source": [
    "# 날짜만 넣으면 keybert 결과까지 나올 수 있게 정리하기\n",
    "\n",
    "# 서울 교육청 도서관만 넣기\n",
    "def extractAllLibBooks(startDate:str) -> pd.DataFrame :\n",
    "    libCode = [111003, 111004, 111005, 111006, 111007, 111008, 111009, 111010, 111022, 111011, 111012, 111013, 111014, 111031, 111016, 111017, 111030, 111015, 111018, 111019, 111020,\n",
    "    111021]\n",
    "    dataframes = []\n",
    "    for code in tqdm(libCode[:2]) : \n",
    "        libBook :pd.DataFrame = loadLibBook(code,startDate)  \n",
    "        dataframes.append(libBook)\n",
    "\n",
    "    result= pd.concat(dataframes).drop_duplicates(subset='ISBN')\n",
    "    val = result['주제분류번호'].astype(str)\n",
    "    BM = val.str.contains('005') | val.str.contains('004')\n",
    "    result : pd.DataFrame = result[BM]\n",
    "    return result\n",
    "\n",
    "asd = extractAllLibBooks('2022-07-15')\n",
    "\n",
    "asd\n",
    "\n"
   ]
  },
  {
   "cell_type": "code",
   "execution_count": null,
   "metadata": {},
   "outputs": [],
   "source": []
  },
  {
   "cell_type": "code",
   "execution_count": 171,
   "metadata": {},
   "outputs": [
    {
     "data": {
      "text/plain": [
       "39"
      ]
     },
     "execution_count": 171,
     "metadata": {},
     "output_type": "execute_result"
    }
   ],
   "source": []
  }
 ],
 "metadata": {
  "kernelspec": {
   "display_name": "Python 3.9.1 64-bit ('3.9.1')",
   "language": "python",
   "name": "python3"
  },
  "language_info": {
   "codemirror_mode": {
    "name": "ipython",
    "version": 3
   },
   "file_extension": ".py",
   "mimetype": "text/x-python",
   "name": "python",
   "nbconvert_exporter": "python",
   "pygments_lexer": "ipython3",
   "version": "3.9.1"
  },
  "orig_nbformat": 4,
  "vscode": {
   "interpreter": {
    "hash": "380499944412d71a434e3a577c644718a6d37bb71a3486bf18ac316dad575de7"
   }
  }
 },
 "nbformat": 4,
 "nbformat_minor": 2
}
