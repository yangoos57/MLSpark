{
 "cells": [
  {
   "cell_type": "code",
   "execution_count": 1,
   "metadata": {},
   "outputs": [
    {
     "name": "stdout",
     "output_type": "stream",
     "text": [
      "22/07/19 23:15:11 WARN Utils: Your hostname, yangwooui-MacBookAir.local resolves to a loopback address: 127.0.0.1; using 172.30.1.2 instead (on interface en0)\n",
      "22/07/19 23:15:11 WARN Utils: Set SPARK_LOCAL_IP if you need to bind to another address\n"
     ]
    },
    {
     "name": "stderr",
     "output_type": "stream",
     "text": [
      "Setting default log level to \"WARN\".\n",
      "To adjust logging level use sc.setLogLevel(newLevel). For SparkR, use setLogLevel(newLevel).\n"
     ]
    },
    {
     "name": "stdout",
     "output_type": "stream",
     "text": [
      "22/07/19 23:15:12 WARN NativeCodeLoader: Unable to load native-hadoop library for your platform... using builtin-java classes where applicable\n"
     ]
    }
   ],
   "source": [
    "from pyspark.sql import SparkSession\n",
    "\n",
    "spark = SparkSession \\\n",
    "    .builder \\\n",
    "    .appName(\"Python Spark SQL basic example\") \\\n",
    "    .config(\"spark.some.config.option\", \"some-value\") \\\n",
    "    .getOrCreate()\n"
   ]
  },
  {
   "cell_type": "code",
   "execution_count": 12,
   "metadata": {},
   "outputs": [],
   "source": [
    "# df= spark.read.option(\"header\",True).parquet('./data/bookInfoKeyword.parquet')\n",
    "# df.createOrReplaceTempView(\"bookInfo\")\n",
    "df = spark.sql(\"SELECT * FROM parquet.`./data/bookInfoKeyword.parquet`\")"
   ]
  },
  {
   "cell_type": "code",
   "execution_count": 30,
   "metadata": {},
   "outputs": [],
   "source": [
    "newColName=list(range(22))\n",
    "\n"
   ]
  },
  {
   "cell_type": "code",
   "execution_count": 38,
   "metadata": {},
   "outputs": [
    {
     "name": "stdout",
     "output_type": "stream",
     "text": [
      "+------------------------------------+\n",
      "|                                col0|\n",
      "+------------------------------------+\n",
      "|    그림과 실습으로 배우는 도커 &...|\n",
      "|             도메인 주도 설계 첫걸음|\n",
      "|           눈 떠보니 메타버스 마스터|\n",
      "|      혼자 공부하는 얄팍한 코딩 지식|\n",
      "|          Do it! 점프 투 파이썬: ...|\n",
      "|한 권으로 끝내는 메타버스 크리에이터|\n",
      "|     야사와 만화로 배우는 인공지능 3|\n",
      "|                 전길남, 연결의 탄생|\n",
      "|  실무자를 위한 그래프 데이터 활용법|\n",
      "|   그림으로 이해하는 AWS 구조와 기술|\n",
      "|          그림으로 이해하는 인지과학|\n",
      "|                  객체지향 UI 디자인|\n",
      "|                     오늘부터 개발자|\n",
      "|               기계 학습을 다시 묻다|\n",
      "|  어떻게 인간과 공존하는 인공지능...|\n",
      "|   비전공자도 이해할 수 있는 AI 지식|\n",
      "|           쉽게 배우는 AWS AI 서비스|\n",
      "|       구글 엔지니어는 이렇게 일한다|\n",
      "|   가장 쉬운 독학 알고리즘 첫걸음...|\n",
      "|       실전 알고리즘 트레이딩 배우기|\n",
      "+------------------------------------+\n",
      "only showing top 20 rows\n",
      "\n"
     ]
    }
   ],
   "source": [
    "renamedCol=df.select(\"col0\")\n",
    "renamedCol.show()"
   ]
  },
  {
   "cell_type": "code",
   "execution_count": null,
   "metadata": {},
   "outputs": [],
   "source": [
    "df = spark.read.option(\"header\",True).csv('./data/bookListSearch.csv',encoding='CP949')\n",
    "df.show()"
   ]
  }
 ],
 "metadata": {
  "kernelspec": {
   "display_name": "Python 3.9.1 64-bit",
   "language": "python",
   "name": "python3"
  },
  "language_info": {
   "codemirror_mode": {
    "name": "ipython",
    "version": 3
   },
   "file_extension": ".py",
   "mimetype": "text/x-python",
   "name": "python",
   "nbconvert_exporter": "python",
   "pygments_lexer": "ipython3",
   "version": "3.9.1"
  },
  "orig_nbformat": 4,
  "vscode": {
   "interpreter": {
    "hash": "b2097164ba635ebffc0e3795dc845ae25b57eedf0c1eb5773ded6aee9fc1b279"
   }
  }
 },
 "nbformat": 4,
 "nbformat_minor": 2
}
