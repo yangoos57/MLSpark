{
 "cells": [
  {
   "cell_type": "code",
   "execution_count": 5,
   "metadata": {},
   "outputs": [],
   "source": [
    "import pandas as pd\n",
    "# import urllib.request as request\n",
    "import requests\n",
    "from bs4 import BeautifulSoup\n",
    "import re"
   ]
  },
  {
   "cell_type": "code",
   "execution_count": 31,
   "metadata": {},
   "outputs": [],
   "source": [
    "### Aladin 시도\n",
    "# ISBN = '9791160505979'\n",
    "# pageurl =f'https://www.aladin.co.kr/search/wsearchresult.aspx?SearchTarget=Book&SearchWord={ISBN}&x=0&y=0'\n",
    "# html = requests.get(pageurl)\n",
    "# bs = BeautifulSoup(html.content)\n",
    "# book_box = bs.find(attrs={'class':'ss_book_box'})\n",
    "# itemid = book_box.get('itemid')\n",
    "# bookUrl=f'https://www.aladin.co.kr/shop/wproduct.aspx?ItemId={itemid}'\n",
    "# bookHtml= requests.get(bookUrl)\n",
    "# bookBs = BeautifulSoup(bookHtml.content)\n",
    "# bookTitle= bookBs.find('a',{'class':'Ere_bo_title'}).string\n",
    "# saleIndex = bookBs.find('div',{'class':'Ere_fs15 Ere_ht18'}).find_all('strong')[-1]"
   ]
  },
  {
   "cell_type": "code",
   "execution_count": 100,
   "metadata": {},
   "outputs": [],
   "source": [
    "ISBN = '9791160505979'\n",
    "kyoboUrl = f'http://www.kyobobook.co.kr/product/detailViewKor.laf?ejkGb=KOR&mallGb=KOR&barcode={ISBN}'\n",
    "kyoboHtml = requests.get(kyoboUrl)\n",
    "kyoboBs = BeautifulSoup(kyoboHtml.content)\n"
   ]
  },
  {
   "cell_type": "code",
   "execution_count": 173,
   "metadata": {},
   "outputs": [],
   "source": [
    "## keybert가 어떤 양식을 요구하는지 모르겠네 만약 하나의 string만을 원한다면 그렇게 저장하는게 맞겠지? \n",
    "## 일단 keybert를 돌려볼까?\n",
    "\n",
    "#-- title --#\n",
    "bookTitle : str = kyoboBs.h1.strong.string.strip()\n",
    "\n",
    "#-- book Intro --#\n",
    "bookIntro : str = kyoboBs.find('div',{'class':'box_detail_article'}).string.strip()\n",
    "\n",
    "#-- author Intro --#\n",
    "authorIntro : str = kyoboBs.find('div',{'class' : 'box_detail_article'}).string.strip()\n",
    "\n",
    "#-- keywords --#\n",
    "keywords = kyoboBs.find('div',{'class':'tag_list'}).find_all('a')\n",
    "keywords : list = [k.string.replace('#','') for k in keywords]\n",
    "\n",
    "#-- TOC --#\n",
    "toc = kyoboBs.find_all('div',{'class' : 'box_detail_article'})[3]\n",
    "toc = re.sub('<.*?>|\\\\t','',str(toc))\n",
    "toc = re.sub('\\\\n',' ',toc)\n",
    "toc :str = re.sub('\\\\r',',',toc)"
   ]
  },
  {
   "cell_type": "code",
   "execution_count": 1,
   "metadata": {},
   "outputs": [
    {
     "name": "stdout",
     "output_type": "stream",
     "text": [
      "Defaulting to user installation because normal site-packages is not writeable\n",
      "Collecting keybert\n",
      "  Using cached keybert-0.5.1.tar.gz (19 kB)\n",
      "  Preparing metadata (setup.py) ... \u001b[?25ldone\n",
      "\u001b[?25hCollecting sentence-transformers>=0.3.8\n",
      "  Using cached sentence-transformers-2.2.2.tar.gz (85 kB)\n",
      "  Preparing metadata (setup.py) ... \u001b[?25ldone\n",
      "\u001b[?25hCollecting scikit-learn>=0.22.2\n",
      "  Using cached scikit_learn-1.1.1-cp38-cp38-macosx_12_0_arm64.whl (7.6 MB)\n",
      "Requirement already satisfied: numpy>=1.18.5 in /Users/yangwoolee/Library/Python/3.8/lib/python/site-packages (from keybert) (1.22.4)\n",
      "Collecting rich>=10.4.0\n",
      "  Using cached rich-12.5.1-py3-none-any.whl (235 kB)\n",
      "Requirement already satisfied: typing-extensions<5.0,>=4.0.0 in /Users/yangwoolee/Library/Python/3.8/lib/python/site-packages (from rich>=10.4.0->keybert) (4.2.0)\n",
      "Requirement already satisfied: pygments<3.0.0,>=2.6.0 in /Users/yangwoolee/Library/Python/3.8/lib/python/site-packages (from rich>=10.4.0->keybert) (2.12.0)\n",
      "Collecting commonmark<0.10.0,>=0.9.0\n",
      "  Using cached commonmark-0.9.1-py2.py3-none-any.whl (51 kB)\n",
      "Requirement already satisfied: scipy>=1.3.2 in /Users/yangwoolee/Library/Python/3.8/lib/python/site-packages (from scikit-learn>=0.22.2->keybert) (1.8.1)\n",
      "Collecting joblib>=1.0.0\n",
      "  Using cached joblib-1.1.0-py2.py3-none-any.whl (306 kB)\n",
      "Collecting threadpoolctl>=2.0.0\n",
      "  Using cached threadpoolctl-3.1.0-py3-none-any.whl (14 kB)\n",
      "Collecting transformers<5.0.0,>=4.6.0\n",
      "  Using cached transformers-4.20.1-py3-none-any.whl (4.4 MB)\n",
      "Requirement already satisfied: tqdm in /Users/yangwoolee/Library/Python/3.8/lib/python/site-packages (from sentence-transformers>=0.3.8->keybert) (4.64.0)\n",
      "Requirement already satisfied: torch>=1.6.0 in /Users/yangwoolee/Library/Python/3.8/lib/python/site-packages (from sentence-transformers>=0.3.8->keybert) (1.12.0)\n",
      "Collecting torchvision\n",
      "  Using cached torchvision-0.13.0-cp38-cp38-macosx_11_0_arm64.whl (1.2 MB)\n",
      "Collecting nltk\n",
      "  Using cached nltk-3.7-py3-none-any.whl (1.5 MB)\n",
      "Collecting sentencepiece\n",
      "  Using cached sentencepiece-0.1.96.tar.gz (508 kB)\n",
      "  Preparing metadata (setup.py) ... \u001b[?25ldone\n",
      "\u001b[?25hCollecting huggingface-hub>=0.4.0\n",
      "  Using cached huggingface_hub-0.8.1-py3-none-any.whl (101 kB)\n",
      "Collecting pyyaml>=5.1\n",
      "  Using cached PyYAML-6.0.tar.gz (124 kB)\n",
      "  Installing build dependencies ... \u001b[?25ldone\n",
      "\u001b[?25h  Getting requirements to build wheel ... \u001b[?25ldone\n",
      "\u001b[?25h  Preparing metadata (pyproject.toml) ... \u001b[?25ldone\n",
      "\u001b[?25hRequirement already satisfied: packaging>=20.9 in /Users/yangwoolee/Library/Python/3.8/lib/python/site-packages (from huggingface-hub>=0.4.0->sentence-transformers>=0.3.8->keybert) (21.3)\n",
      "Requirement already satisfied: requests in /Users/yangwoolee/Library/Python/3.8/lib/python/site-packages (from huggingface-hub>=0.4.0->sentence-transformers>=0.3.8->keybert) (2.28.0)\n",
      "Collecting filelock\n",
      "  Using cached filelock-3.7.1-py3-none-any.whl (10 kB)\n",
      "Collecting regex!=2019.12.17\n",
      "  Using cached regex-2022.7.9-cp38-cp38-macosx_11_0_arm64.whl (281 kB)\n",
      "Collecting tokenizers!=0.11.3,<0.13,>=0.11.1\n",
      "  Using cached tokenizers-0.12.1.tar.gz (220 kB)\n",
      "  Installing build dependencies ... \u001b[?25ldone\n",
      "\u001b[?25h  Getting requirements to build wheel ... \u001b[?25lerror\n",
      "  \u001b[1;31merror\u001b[0m: \u001b[1msubprocess-exited-with-error\u001b[0m\n",
      "  \n",
      "  \u001b[31m×\u001b[0m \u001b[32mGetting requirements to build wheel\u001b[0m did not run successfully.\n",
      "  \u001b[31m│\u001b[0m exit code: \u001b[1;36m1\u001b[0m\n",
      "  \u001b[31m╰─>\u001b[0m \u001b[31m[20 lines of output]\u001b[0m\n",
      "  \u001b[31m   \u001b[0m Traceback (most recent call last):\n",
      "  \u001b[31m   \u001b[0m   File \"/Users/yangwoolee/Library/Python/3.8/lib/python/site-packages/pip/_vendor/pep517/in_process/_in_process.py\", line 363, in <module>\n",
      "  \u001b[31m   \u001b[0m     main()\n",
      "  \u001b[31m   \u001b[0m   File \"/Users/yangwoolee/Library/Python/3.8/lib/python/site-packages/pip/_vendor/pep517/in_process/_in_process.py\", line 345, in main\n",
      "  \u001b[31m   \u001b[0m     json_out['return_val'] = hook(**hook_input['kwargs'])\n",
      "  \u001b[31m   \u001b[0m   File \"/Users/yangwoolee/Library/Python/3.8/lib/python/site-packages/pip/_vendor/pep517/in_process/_in_process.py\", line 130, in get_requires_for_build_wheel\n",
      "  \u001b[31m   \u001b[0m     return hook(config_settings)\n",
      "  \u001b[31m   \u001b[0m   File \"/Library/Developer/CommandLineTools/Library/Frameworks/Python3.framework/Versions/3.8/lib/python3.8/site-packages/setuptools/build_meta.py\", line 146, in get_requires_for_build_wheel\n",
      "  \u001b[31m   \u001b[0m     return self._get_build_requires(\n",
      "  \u001b[31m   \u001b[0m   File \"/Library/Developer/CommandLineTools/Library/Frameworks/Python3.framework/Versions/3.8/lib/python3.8/site-packages/setuptools/build_meta.py\", line 127, in _get_build_requires\n",
      "  \u001b[31m   \u001b[0m     self.run_setup()\n",
      "  \u001b[31m   \u001b[0m   File \"/Library/Developer/CommandLineTools/Library/Frameworks/Python3.framework/Versions/3.8/lib/python3.8/site-packages/setuptools/build_meta.py\", line 142, in run_setup\n",
      "  \u001b[31m   \u001b[0m     exec(compile(code, __file__, 'exec'), locals())\n",
      "  \u001b[31m   \u001b[0m   File \"setup.py\", line 2, in <module>\n",
      "  \u001b[31m   \u001b[0m     from setuptools_rust import Binding, RustExtension\n",
      "  \u001b[31m   \u001b[0m   File \"/private/var/folders/rh/7xnmdybn7778kzq927hfcn8c0000gn/T/pip-build-env-yolv4f28/overlay/lib/python3.8/site-packages/setuptools_rust/__init__.py\", line 1, in <module>\n",
      "  \u001b[31m   \u001b[0m     from .build import build_rust\n",
      "  \u001b[31m   \u001b[0m   File \"/private/var/folders/rh/7xnmdybn7778kzq927hfcn8c0000gn/T/pip-build-env-yolv4f28/overlay/lib/python3.8/site-packages/setuptools_rust/build.py\", line 20, in <module>\n",
      "  \u001b[31m   \u001b[0m     from setuptools.command.build import build as CommandBuild  # type: ignore[import]\n",
      "  \u001b[31m   \u001b[0m ModuleNotFoundError: No module named 'setuptools.command.build'\n",
      "  \u001b[31m   \u001b[0m \u001b[31m[end of output]\u001b[0m\n",
      "  \n",
      "  \u001b[1;35mnote\u001b[0m: This error originates from a subprocess, and is likely not a problem with pip.\n",
      "\u001b[?25h\u001b[1;31merror\u001b[0m: \u001b[1msubprocess-exited-with-error\u001b[0m\n",
      "\n",
      "\u001b[31m×\u001b[0m \u001b[32mGetting requirements to build wheel\u001b[0m did not run successfully.\n",
      "\u001b[31m│\u001b[0m exit code: \u001b[1;36m1\u001b[0m\n",
      "\u001b[31m╰─>\u001b[0m See above for output.\n",
      "\n",
      "\u001b[1;35mnote\u001b[0m: This error originates from a subprocess, and is likely not a problem with pip.\n",
      "Note: you may need to restart the kernel to use updated packages.\n"
     ]
    }
   ],
   "source": [
    "pip install keybert"
   ]
  },
  {
   "cell_type": "code",
   "execution_count": 4,
   "metadata": {},
   "outputs": [
    {
     "name": "stdout",
     "output_type": "stream",
     "text": [
      "Defaulting to user installation because normal site-packages is not writeable\n",
      "Collecting tokenizers\n",
      "  Using cached tokenizers-0.12.1.tar.gz (220 kB)\n",
      "  Installing build dependencies ... \u001b[?25ldone\n",
      "\u001b[?25h  Getting requirements to build wheel ... \u001b[?25lerror\n",
      "  \u001b[1;31merror\u001b[0m: \u001b[1msubprocess-exited-with-error\u001b[0m\n",
      "  \n",
      "  \u001b[31m×\u001b[0m \u001b[32mGetting requirements to build wheel\u001b[0m did not run successfully.\n",
      "  \u001b[31m│\u001b[0m exit code: \u001b[1;36m1\u001b[0m\n",
      "  \u001b[31m╰─>\u001b[0m \u001b[31m[20 lines of output]\u001b[0m\n",
      "  \u001b[31m   \u001b[0m Traceback (most recent call last):\n",
      "  \u001b[31m   \u001b[0m   File \"/Users/yangwoolee/Library/Python/3.8/lib/python/site-packages/pip/_vendor/pep517/in_process/_in_process.py\", line 363, in <module>\n",
      "  \u001b[31m   \u001b[0m     main()\n",
      "  \u001b[31m   \u001b[0m   File \"/Users/yangwoolee/Library/Python/3.8/lib/python/site-packages/pip/_vendor/pep517/in_process/_in_process.py\", line 345, in main\n",
      "  \u001b[31m   \u001b[0m     json_out['return_val'] = hook(**hook_input['kwargs'])\n",
      "  \u001b[31m   \u001b[0m   File \"/Users/yangwoolee/Library/Python/3.8/lib/python/site-packages/pip/_vendor/pep517/in_process/_in_process.py\", line 130, in get_requires_for_build_wheel\n",
      "  \u001b[31m   \u001b[0m     return hook(config_settings)\n",
      "  \u001b[31m   \u001b[0m   File \"/Library/Developer/CommandLineTools/Library/Frameworks/Python3.framework/Versions/3.8/lib/python3.8/site-packages/setuptools/build_meta.py\", line 146, in get_requires_for_build_wheel\n",
      "  \u001b[31m   \u001b[0m     return self._get_build_requires(\n",
      "  \u001b[31m   \u001b[0m   File \"/Library/Developer/CommandLineTools/Library/Frameworks/Python3.framework/Versions/3.8/lib/python3.8/site-packages/setuptools/build_meta.py\", line 127, in _get_build_requires\n",
      "  \u001b[31m   \u001b[0m     self.run_setup()\n",
      "  \u001b[31m   \u001b[0m   File \"/Library/Developer/CommandLineTools/Library/Frameworks/Python3.framework/Versions/3.8/lib/python3.8/site-packages/setuptools/build_meta.py\", line 142, in run_setup\n",
      "  \u001b[31m   \u001b[0m     exec(compile(code, __file__, 'exec'), locals())\n",
      "  \u001b[31m   \u001b[0m   File \"setup.py\", line 2, in <module>\n",
      "  \u001b[31m   \u001b[0m     from setuptools_rust import Binding, RustExtension\n",
      "  \u001b[31m   \u001b[0m   File \"/private/var/folders/rh/7xnmdybn7778kzq927hfcn8c0000gn/T/pip-build-env-7mo118yu/overlay/lib/python3.8/site-packages/setuptools_rust/__init__.py\", line 1, in <module>\n",
      "  \u001b[31m   \u001b[0m     from .build import build_rust\n",
      "  \u001b[31m   \u001b[0m   File \"/private/var/folders/rh/7xnmdybn7778kzq927hfcn8c0000gn/T/pip-build-env-7mo118yu/overlay/lib/python3.8/site-packages/setuptools_rust/build.py\", line 20, in <module>\n",
      "  \u001b[31m   \u001b[0m     from setuptools.command.build import build as CommandBuild  # type: ignore[import]\n",
      "  \u001b[31m   \u001b[0m ModuleNotFoundError: No module named 'setuptools.command.build'\n",
      "  \u001b[31m   \u001b[0m \u001b[31m[end of output]\u001b[0m\n",
      "  \n",
      "  \u001b[1;35mnote\u001b[0m: This error originates from a subprocess, and is likely not a problem with pip.\n",
      "\u001b[?25h\u001b[1;31merror\u001b[0m: \u001b[1msubprocess-exited-with-error\u001b[0m\n",
      "\n",
      "\u001b[31m×\u001b[0m \u001b[32mGetting requirements to build wheel\u001b[0m did not run successfully.\n",
      "\u001b[31m│\u001b[0m exit code: \u001b[1;36m1\u001b[0m\n",
      "\u001b[31m╰─>\u001b[0m See above for output.\n",
      "\n",
      "\u001b[1;35mnote\u001b[0m: This error originates from a subprocess, and is likely not a problem with pip.\n",
      "Note: you may need to restart the kernel to use updated packages.\n"
     ]
    }
   ],
   "source": [
    "pip install tokenizers"
   ]
  }
 ],
 "metadata": {
  "kernelspec": {
   "display_name": "Python 3.8.9 64-bit",
   "language": "python",
   "name": "python3"
  },
  "language_info": {
   "codemirror_mode": {
    "name": "ipython",
    "version": 3
   },
   "file_extension": ".py",
   "mimetype": "text/x-python",
   "name": "python",
   "nbconvert_exporter": "python",
   "pygments_lexer": "ipython3",
   "version": "3.8.9"
  },
  "orig_nbformat": 4,
  "vscode": {
   "interpreter": {
    "hash": "31f2aee4e71d21fbe5cf8b01ff0e069b9275f58929596ceb00d14d90e3e16cd6"
   }
  }
 },
 "nbformat": 4,
 "nbformat_minor": 2
}
