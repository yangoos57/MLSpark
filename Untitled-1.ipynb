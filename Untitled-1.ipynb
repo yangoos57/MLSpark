{
 "cells": [
  {
   "cell_type": "code",
   "execution_count": 1,
   "metadata": {},
   "outputs": [],
   "source": [
    "from sentence_transformers import SentenceTransformer\n",
    "import pandas as pd\n",
    "from bookutils import *\n",
    "import os\n",
    "from sklearn.metrics.pairwise import cosine_similarity\n",
    "from sklearn.feature_extraction.text import CountVectorizer\n",
    "from sentence_transformers import SentenceTransformer\n",
    "from konlpy.tag import Hannanum\n",
    "from bs4 import BeautifulSoup\n",
    "import requests\n",
    "import re\n",
    "import numpy as np\n",
    "import pandas as pd\n",
    "import time\n",
    "from tqdm.notebook import tqdm\n",
    "from keybert import KeyBERT\n",
    "from sklearn.cluster import KMeans\n",
    "bookInfo2 = pd.read_parquet('./data/bookInfo2.parquet')\n",
    "stopwords = pd.read_csv('./data/stopwords.csv').T.values.tolist()[0]\n",
    "keyBertModel = KeyBERT('paraphrase-multilingual-MiniLM-L12-v2')"
   ]
  },
  {
   "cell_type": "code",
   "execution_count": 4,
   "metadata": {},
   "outputs": [],
   "source": [
    "#keyBert Test\n",
    "textList = bookInfo[bookInfo['col1'] == 9791160508796].astype(str).values.tolist()[0]\n",
    "text = re.sub(\"\\d[.]|\\d|\\W|[_]\", \" \", ''.join(textList))\n",
    "hannanum = Hannanum()\n",
    "hanNouns = hannanum.nouns(text)\n",
    "words = \" \".join(hanNouns)\n",
    "keywords = keyBertModel.extract_keywords(words,top_n=10,keyphrase_ngram_range=(3,3), use_mmr=True, diversity=0.1)\n",
    "# model = KeyBERT('sentence-transformers/xlm-r-100langs-bert-base-nli-stsb-mean-tokens')"
   ]
  },
  {
   "cell_type": "code",
   "execution_count": 14,
   "metadata": {},
   "outputs": [],
   "source": [
    "bookInfo = bookInfo2[:1000]"
   ]
  },
  {
   "cell_type": "code",
   "execution_count": 9,
   "metadata": {},
   "outputs": [],
   "source": [
    "result = []"
   ]
  },
  {
   "cell_type": "code",
   "execution_count": 15,
   "metadata": {},
   "outputs": [
    {
     "data": {
      "application/vnd.jupyter.widget-view+json": {
       "model_id": "cf219f517de54c109e63511dd4ac718f",
       "version_major": 2,
       "version_minor": 0
      },
      "text/plain": [
       "  0%|          | 0/20 [00:00<?, ?it/s]"
      ]
     },
     "metadata": {},
     "output_type": "display_data"
    },
    {
     "name": "stderr",
     "output_type": "stream",
     "text": [
      "java.lang.ArrayIndexOutOfBoundsException: Index 10000 out of bounds for length 10000\n",
      "\tat kr.ac.kaist.swrc.jhannanum.plugin.MajorPlugin.PosTagger.HmmPosTagger.HMMTagger.new_mnode(HMMTagger.java:354)\n",
      "\tat kr.ac.kaist.swrc.jhannanum.plugin.MajorPlugin.PosTagger.HmmPosTagger.HMMTagger.tagPOS(HMMTagger.java:143)\n",
      "\tat kr.ac.kaist.swrc.jhannanum.hannanum.Workflow.analyzeInSingleThread(Workflow.java:857)\n",
      "\tat kr.ac.kaist.swrc.jhannanum.hannanum.Workflow.analyze(Workflow.java:521)\n",
      "\tat kr.lucypark.jhannanum.comm.HannanumInterface.simplePos09(Unknown Source)\n"
     ]
    }
   ],
   "source": [
    "### 핵심단어 20개를 encode 해본 테스트\n",
    "for k in tqdm(list(range(0,len(bookInfo),50))) :\n",
    "    for i in list(range(k, k+50)):\n",
    "        try :\n",
    "            doc = bookInfo.iloc[i].astype(str).values.tolist()\n",
    "            text = ' '.join(doc)\n",
    "            keyValues = keyBertExtraction(text,stopwords,keyBertModel)\n",
    "            result.append(keyValues)\n",
    "        except :\n",
    "            print(f'{i} 번째에서 error 발생')\n",
    "            result.append(['empty'])"
   ]
  },
  {
   "cell_type": "code",
   "execution_count": 23,
   "metadata": {},
   "outputs": [
    {
     "name": "stderr",
     "output_type": "stream",
     "text": [
      "/var/folders/rh/7xnmdybn7778kzq927hfcn8c0000gn/T/ipykernel_51113/2173464603.py:1: SettingWithCopyWarning: \n",
      "A value is trying to be set on a copy of a slice from a DataFrame.\n",
      "Try using .loc[row_indexer,col_indexer] = value instead\n",
      "\n",
      "See the caveats in the documentation: https://pandas.pydata.org/pandas-docs/stable/user_guide/indexing.html#returning-a-view-versus-a-copy\n",
      "  bookInfo['keyword'] = result[1000:2000]\n"
     ]
    }
   ],
   "source": [
    "bookInfo['keyword'] = result[1000:2000]"
   ]
  },
  {
   "cell_type": "code",
   "execution_count": 25,
   "metadata": {},
   "outputs": [],
   "source": [
    "bookInfo.to_parquet('./data/bookInfoKeyword2.parquet',compression='gzip')"
   ]
  },
  {
   "cell_type": "code",
   "execution_count": 36,
   "metadata": {},
   "outputs": [],
   "source": [
    "### 6000개 다 되면 해보ㅈ\n",
    "result =[]\n",
    "for i in list(range(0,1000)):\n",
    "    k = ' '.join(bookInfo['keyword'][i])\n",
    "    result.append(k)\n",
    "bookInfo['keyword2'] = result"
   ]
  },
  {
   "cell_type": "code",
   "execution_count": 44,
   "metadata": {},
   "outputs": [
    {
     "data": {
      "text/html": [
       "<div>\n",
       "<style scoped>\n",
       "    .dataframe tbody tr th:only-of-type {\n",
       "        vertical-align: middle;\n",
       "    }\n",
       "\n",
       "    .dataframe tbody tr th {\n",
       "        vertical-align: top;\n",
       "    }\n",
       "\n",
       "    .dataframe thead th {\n",
       "        text-align: right;\n",
       "    }\n",
       "</style>\n",
       "<table border=\"1\" class=\"dataframe\">\n",
       "  <thead>\n",
       "    <tr style=\"text-align: right;\">\n",
       "      <th></th>\n",
       "      <th>col0</th>\n",
       "      <th>col1</th>\n",
       "      <th>col2</th>\n",
       "      <th>col3</th>\n",
       "      <th>col4</th>\n",
       "      <th>col5</th>\n",
       "      <th>col6</th>\n",
       "      <th>col7</th>\n",
       "      <th>col8</th>\n",
       "      <th>col9</th>\n",
       "      <th>...</th>\n",
       "      <th>col17</th>\n",
       "      <th>col18</th>\n",
       "      <th>col19</th>\n",
       "      <th>col20</th>\n",
       "      <th>col21</th>\n",
       "      <th>col22</th>\n",
       "      <th>col23</th>\n",
       "      <th>col24</th>\n",
       "      <th>keyword</th>\n",
       "      <th>keyword2</th>\n",
       "    </tr>\n",
       "  </thead>\n",
       "  <tbody>\n",
       "    <tr>\n",
       "      <th>225</th>\n",
       "      <td>스무디 한 잔 마시며 끝내는 React Native</td>\n",
       "      <td>9791190014625</td>\n",
       "      <td>2020년 6월 5일  React Native...</td>\n",
       "      <td>Chapter 1  리액트 네이티브란     1 1 리액트 네이티브란   ...</td>\n",
       "      <td>iOS와 안드로이드 앱을 한 번에 개발할 수 있다면 얼마나 좋을까  이...</td>\n",
       "      <td>None</td>\n",
       "      <td>None</td>\n",
       "      <td>None</td>\n",
       "      <td>None</td>\n",
       "      <td>None</td>\n",
       "      <td>...</td>\n",
       "      <td>None</td>\n",
       "      <td>None</td>\n",
       "      <td>None</td>\n",
       "      <td>None</td>\n",
       "      <td>None</td>\n",
       "      <td>None</td>\n",
       "      <td>None</td>\n",
       "      <td>None</td>\n",
       "      <td>[개발, 안드로이드, 요약, 개발자, 네이티브, 리액트, 배포, 확인, 프로젝트, ...</td>\n",
       "      <td>개발 안드로이드 요약 개발자 네이티브 리액트 배포 확인 프로젝트 준비 결과 애플리케...</td>\n",
       "    </tr>\n",
       "  </tbody>\n",
       "</table>\n",
       "<p>1 rows × 27 columns</p>\n",
       "</div>"
      ],
      "text/plain": [
       "                             col0           col1  \\\n",
       "225  스무디 한 잔 마시며 끝내는 React Native  9791190014625   \n",
       "\n",
       "                                                  col2  \\\n",
       "225                       2020년 6월 5일  React Native...   \n",
       "\n",
       "                                                  col3  \\\n",
       "225       Chapter 1  리액트 네이티브란     1 1 리액트 네이티브란   ...   \n",
       "\n",
       "                                                  col4  col5  col6  col7  \\\n",
       "225         iOS와 안드로이드 앱을 한 번에 개발할 수 있다면 얼마나 좋을까  이...  None  None  None   \n",
       "\n",
       "     col8  col9  ... col17 col18 col19 col20 col21 col22 col23 col24  \\\n",
       "225  None  None  ...  None  None  None  None  None  None  None  None   \n",
       "\n",
       "                                               keyword  \\\n",
       "225  [개발, 안드로이드, 요약, 개발자, 네이티브, 리액트, 배포, 확인, 프로젝트, ...   \n",
       "\n",
       "                                              keyword2  \n",
       "225  개발 안드로이드 요약 개발자 네이티브 리액트 배포 확인 프로젝트 준비 결과 애플리케...  \n",
       "\n",
       "[1 rows x 27 columns]"
      ]
     },
     "execution_count": 44,
     "metadata": {},
     "output_type": "execute_result"
    }
   ],
   "source": [
    "bookInfo[bookInfo['keyword2'].str.contains('안드로이드') & bookInfo['keyword2'].str.contains('리액트') ]"
   ]
  },
  {
   "cell_type": "code",
   "execution_count": null,
   "metadata": {},
   "outputs": [],
   "source": [
    "#siluette\n",
    "from yellowbrick.cluster import SilhouetteVisualizer\n",
    "\n",
    "doc_embedding = model.encode(result)\n",
    "fig, ax = plt.subplots(5, 2, figsize=(15,15))\n",
    "for i in list(range(2,12)):\n",
    "    '''\n",
    "    Create KMeans instance for different number of clusters\n",
    "    '''\n",
    "    km = KMeans(n_clusters=i, init='k-means++', n_init=10, max_iter=100, random_state=42)\n",
    "    q, mod = divmod(i, 2)\n",
    "    '''\n",
    "    Create SilhouetteVisualizer instance with KMeans instance\n",
    "    Fit the visualizer\n",
    "    '''\n",
    "    visualizer = SilhouetteVisualizer(km, colors='yellowbrick', ax=ax[q-1][mod])\n",
    "    visualizer.fit(doc_embedding)"
   ]
  },
  {
   "cell_type": "code",
   "execution_count": null,
   "metadata": {},
   "outputs": [
    {
     "data": {
      "text/plain": [
       "<AxesSubplot:>"
      ]
     },
     "execution_count": 116,
     "metadata": {},
     "output_type": "execute_result"
    },
    {
     "data": {
      "image/png": "[encoded data removed]",
      "text/plain": [
       "<Figure size 576x396 with 1 Axes>"
      ]
     },
     "metadata": {},
     "output_type": "display_data"
    }
   ],
   "source": [
    "#elbow\n",
    "result_val = []\n",
    "for i in list(range(1,10)) :\n",
    "    km = KMeans(n_clusters=i, init='k-means++', n_init=10, max_iter=100, random_state=42)\n",
    "    val = km.fit(doc_embedding)\n",
    "    a = val.inertia_\n",
    "    result_val.append(a)\n",
    "\n",
    "pd.DataFrame(result_val).plot()\n"
   ]
  },
  {
   "cell_type": "code",
   "execution_count": null,
   "metadata": {},
   "outputs": [],
   "source": [
    "i = 10\n",
    "km = KMeans(n_clusters=i, init='k-means++', n_init=10, max_iter=100, random_state=42)\n",
    "cluster_values = km.fit(doc_embedding)\n",
    "\n",
    "end = pd.DataFrame([testBooks['col0'].tolist(),cluster_values.labels_]).T\n",
    "end.columns = ['name','cluster_n']\n",
    "for i in list(range(0,i)):\n",
    "    print(f'cluster {i}')\n",
    "    print(end[end['cluster_n'] == i]['name'].tolist())\n",
    "    "
   ]
  },
  {
   "cell_type": "markdown",
   "metadata": {},
   "source": [
    "# elbow 적용해서 해보면 좋은 결과가 나올 수 있을듯"
   ]
  },
  {
   "cell_type": "code",
   "execution_count": null,
   "metadata": {},
   "outputs": [],
   "source": [
    "# 핵심단어 20개 추출 후 bert 결과 bookInfo[100:150]\n",
    "# cluster0\n",
    "# ['디버깅을 통해 배우는 리눅스 커널의 구조와 원리 1', 'OS가 보이는 그림책']\n",
    "# cluster1\n",
    "# ['리액트 네이티브를 다루는 기술', '구글 BERT의 정석', '기초부터 실무 응용까지', '백견불여일타 스프링 부트 쇼핑몰 프로젝트 with JPA', '자바가 보이는 그림책', '피닉스 프로젝트', '딥러닝 텐서플로 교과서', 'Python으로 배우는 문제해결과 인공지능', '처음 시작하는 마이크로서비스', '맛있는 디자인 포토샵 CC 2021', '맛있는 디자인', '생활코딩! React 리액트 프로그래밍', '엔터프라이즈 환경을 위한 마이크로서비스']\n",
    "# cluster2\n",
    "# ['UX 디자인이 처음이라면', '머신러닝 디자인 패턴', '필요할 때 바로 써먹는 인디자인 실용테크닉', '가상 면접 사례로 배우는 대규모 시스템 설계 기초']\n",
    "# cluster3\n",
    "# ['일 잘하는 직장인을 위한', '데이터 스토리텔링 연습', '쉽게 시작하는 캐글 데이터 분석', '자바 데이터 분석', '3일 만에 끝내는 코딩 통계', '퀀트 투자를 위한 머신러닝·딥러닝 알고리듬 트레이딩 2/e', '데이터 스토리', '데이터 사이언스의 매력', 'Real MySQL 8.0 (1권)', '엑셀로 하는 데이터 분석', '실전 아파치 카프카', '데이터 과학을 위한 통계', '데이터 해석학 입문']\n",
    "# cluster4\n",
    "# ['오라클 튜닝 에센셜', '디버깅을 통해 배우는 리눅스 커널의 구조와 원리 2', '온택트 파워포인트 속성과외', '엘라스틱 스택 개발부터 운영까지', '단위 테스트', '파이썬이 보이는 그림책', '홍마리오의 워드프레스 입문 + 실전(종합편)', 'AI의 얼개를 기본부터 설명한', 'fastai와 파이토치가 만나 꽃피운 딥러닝', '파이썬 GUI 프로그래밍 쿡북', '맛있는 디자인 망고보드', 'Real MySQL 8.0 (2권)', '필요할 때 바로 써먹는', '쿠버네티스 입문', '쿠버네티스 완벽 가이드', '이펙티브 타입스크립트', '스벨트 앤 새퍼 인 액션', '윤성우의 열혈 파이썬 중급편']"
   ]
  },
  {
   "cell_type": "code",
   "execution_count": 13,
   "metadata": {},
   "outputs": [
    {
     "data": {
      "text/plain": [
       "384"
      ]
     },
     "execution_count": 13,
     "metadata": {},
     "output_type": "execute_result"
    }
   ],
   "source": [
    "# 두가지 실험을 해보자.\n",
    "# 1. embedding 된 문장을 넣어서 구분시키기 kmeans 사용\n",
    "# 2. keyword를 뽑은다음 단어를 vector화 한 뒤 kmeans 사용"
   ]
  }
 ],
 "metadata": {
  "kernelspec": {
   "display_name": "Python 3.9.1 64-bit",
   "language": "python",
   "name": "python3"
  },
  "language_info": {
   "codemirror_mode": {
    "name": "ipython",
    "version": 3
   },
   "file_extension": ".py",
   "mimetype": "text/x-python",
   "name": "python",
   "nbconvert_exporter": "python",
   "pygments_lexer": "ipython3",
   "version": "3.9.1"
  },
  "orig_nbformat": 4,
  "vscode": {
   "interpreter": {
    "hash": "b2097164ba635ebffc0e3795dc845ae25b57eedf0c1eb5773ded6aee9fc1b279"
   }
  }
 },
 "nbformat": 4,
 "nbformat_minor": 2
}
